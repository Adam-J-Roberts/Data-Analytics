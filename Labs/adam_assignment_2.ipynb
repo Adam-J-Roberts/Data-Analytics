{
 "cells": [
  {
   "cell_type": "code",
   "execution_count": 55,
   "metadata": {},
   "outputs": [],
   "source": [
    "class Home(object):\n",
    "    \n",
    "    def __init__(self, doors, windows):\n",
    "        self.doors = doors\n",
    "        self.windows = windows \n",
    "\n",
    "    def getDoors(self):\n",
    "        return self.doors\n",
    "\n",
    "    def getWindows(self):\n",
    "        return self.windows\n",
    "\n",
    "    def setDoors(self, doors):\n",
    "        self.doors= doors\n",
    "\n",
    "    def setWindows(self, windows):\n",
    "        self.windows= winows\n",
    "class House(Home):\n",
    "    \n",
    "    def __init__(self, doors, windows, ownership, style):\n",
    "        Home.__init__(self, doors, windows)        \n",
    "        self.doors = doors\n",
    "        self.windows = windows\n",
    "        self.ownership = ownership\n",
    "        self.style = style\n",
    "        \n",
    "    def getOwnership(self) :\n",
    "        return self.ownership\n",
    "    \n",
    "    def getStyle(self) :\n",
    "        return self.style\n",
    "    \n",
    "    def setOwnership(self, ownership) :\n",
    "        self.ownership = ownership\n",
    "        \n",
    "    def setStyle(self, style) :\n",
    "        self.style=style\n",
    "class Appartment(Home) :\n",
    "    \n",
    "    def __init__(self, doors, windows, aptNum):\n",
    "            Home.__init__(self, doors, windows)\n",
    "        \n",
    "            self.doors = doors\n",
    "            self.windows = windows\n",
    "            self.aptNum = aptNum\n",
    "    \n",
    "    def getAptNum(self) :\n",
    "        return self.aptNum\n",
    "    \n",
    "    def setAptNum(self, aptNum) :\n",
    "        self.aptNum = aptNum"
   ]
  },
  {
   "cell_type": "code",
   "execution_count": 59,
   "metadata": {},
   "outputs": [
    {
     "name": "stdout",
     "output_type": "stream",
     "text": [
      "Ownership: true\n",
      "Ownership: false\n",
      "Style: tudor\n",
      "Style: duplex\n",
      "Apartment No: 32b\n",
      "Apartment No: 666\n"
     ]
    }
   ],
   "source": [
    "myHome = House(2, 3, \"true\", \"tudor\")\n",
    "\n",
    "print(\"Ownership:\", myHome.getOwnership())\n",
    "myHome.setOwnership(\"false\")\n",
    "print(\"Ownership:\",myHome.getOwnership())\n",
    "\n",
    "print(\"Style:\",myHome.getStyle())\n",
    "myHome.setStyle(\"duplex\")\n",
    "print(\"Style:\",myHome.getStyle())\n",
    "\n",
    "\n",
    "yoHome = Appartment(1, 2, \"32b\")\n",
    "print(\"Apartment No:\",yoHome.getAptNum())\n",
    "yoHome.setAptNum(\"666\")\n",
    "print(\"Apartment No:\",yoHome.getAptNum())"
   ]
  },
  {
   "cell_type": "code",
   "execution_count": null,
   "metadata": {},
   "outputs": [],
   "source": []
  }
 ],
 "metadata": {
  "kernelspec": {
   "display_name": "Python 3",
   "language": "python",
   "name": "python3"
  },
  "language_info": {
   "codemirror_mode": {
    "name": "ipython",
    "version": 3
   },
   "file_extension": ".py",
   "mimetype": "text/x-python",
   "name": "python",
   "nbconvert_exporter": "python",
   "pygments_lexer": "ipython3",
   "version": "3.7.3"
  }
 },
 "nbformat": 4,
 "nbformat_minor": 2
}
