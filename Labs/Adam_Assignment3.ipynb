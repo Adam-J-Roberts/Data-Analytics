{
 "cells": [
  {
   "cell_type": "code",
   "execution_count": 20,
   "metadata": {},
   "outputs": [],
   "source": [
    "class Student(object):\n",
    "    \n",
    "    def __init__(self, name, scores):\n",
    "        self.name = name\n",
    "        self.scores = scores\n",
    "        self.grades = [0]*scores\n",
    "        \n",
    "    def getName(self):\n",
    "        return self.name\n",
    "        \n",
    "    def setName(self, name):\n",
    "        self.name = name\n",
    "        \n",
    "    def getScores(self):\n",
    "        return self.scores\n",
    "    \n",
    "    def setScores(self, scores):\n",
    "        self.scores = scores\n",
    "    \n",
    "    def editGrade(self, position, grade):\n",
    "        self.grades[position] = grade\n",
    "    \n",
    "    def getGrade(self, position):\n",
    "        return self.grades[position]\n",
    "    \n",
    "    def resetGrade(self, position):\n",
    "        self.grades[position] = 0\n",
    "        \n",
    "    def highestScore(self):\n",
    "        return max(self.grades)\n",
    "    \n",
    "    def averageScore(self):\n",
    "        return sum(self.grades) / len(self.grades) \n",
    "    \n",
    "    def printStudent(self):\n",
    "        print(\"Name: \" + self.name + \" Avg grade: \" + str(self.averageScore()) )\n",
    "  \n",
    "    def __str__(self):\n",
    "        return \"Name: \" + self.name + \" Avg grade: \" + str(self.averageScore())\n",
    "    \n",
    "class UndergradStudent(Student):\n",
    "    \n",
    "    def __init__(self, name, scores, year):\n",
    "        Student.__init__(self, name, scores)\n",
    "        self.year = year\n",
    "        \n",
    "    def getYear(self):\n",
    "        return self.year\n",
    "    \n",
    "    def setYear(self, year):\n",
    "        self.year = year\n",
    "    \n",
    "    def __str__(self):\n",
    "        return \"Name: \" + self.name + \" Avg grade: \" + str(self.averageScore()) + \" Year: \" + str(self.year)\n",
    "\n",
    "        "
   ]
  },
  {
   "cell_type": "code",
   "execution_count": 21,
   "metadata": {},
   "outputs": [],
   "source": [
    "first = Student(\"Adam\",3)\n",
    "first.setName(\"Jim\")\n",
    "first.editGrade(1,97)"
   ]
  },
  {
   "cell_type": "code",
   "execution_count": 22,
   "metadata": {},
   "outputs": [
    {
     "name": "stdout",
     "output_type": "stream",
     "text": [
      "Jim\n",
      "Bill\n",
      "3\n",
      "97\n",
      "97\n",
      "32.333333333333336\n",
      "Name: Bill Avg grade: 32.333333333333336\n",
      "Name: Bill Avg grade: 32.333333333333336\n"
     ]
    }
   ],
   "source": [
    "print(first.getName())\n",
    "first.name = \"Bill\"\n",
    "print(first.getName())\n",
    "print(first.getScores())\n",
    "print(first.getGrade(1))\n",
    "print(first.highestScore())\n",
    "print(first.averageScore())\n",
    "first.printStudent()\n",
    "print(first)\n"
   ]
  },
  {
   "cell_type": "code",
   "execution_count": 23,
   "metadata": {},
   "outputs": [
    {
     "name": "stdout",
     "output_type": "stream",
     "text": [
      "4\n",
      "2020\n",
      "Name: Bill Avg grade: 0.0 Year: 2021\n"
     ]
    }
   ],
   "source": [
    "second = UndergradStudent(\"Bill\", 4, 2020)\n",
    "print(second.getScores())\n",
    "print(second.getYear())\n",
    "second.setYear(2021)\n",
    "print(second)\n"
   ]
  }
 ],
 "metadata": {
  "kernelspec": {
   "display_name": "Python 3",
   "language": "python",
   "name": "python3"
  },
  "language_info": {
   "codemirror_mode": {
    "name": "ipython",
    "version": 3
   },
   "file_extension": ".py",
   "mimetype": "text/x-python",
   "name": "python",
   "nbconvert_exporter": "python",
   "pygments_lexer": "ipython3",
   "version": "3.7.4"
  }
 },
 "nbformat": 4,
 "nbformat_minor": 2
}
